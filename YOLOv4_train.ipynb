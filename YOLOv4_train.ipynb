{
  "nbformat": 4,
  "nbformat_minor": 0,
  "metadata": {
    "colab": {
      "name": "YOLOv4_train.ipynb",
      "provenance": [],
      "collapsed_sections": [],
      "machine_shape": "hm"
    },
    "kernelspec": {
      "name": "python3",
      "display_name": "Python 3"
    },
    "language_info": {
      "name": "python"
    },
    "accelerator": "GPU"
  },
  "cells": [
    {
      "cell_type": "code",
      "source": [
        "#check gpu [ P100 recommended ]\n",
        "!nvidia-smi"
      ],
      "metadata": {
        "id": "3dJJKhMQsyWI"
      },
      "execution_count": null,
      "outputs": []
    },
    {
      "cell_type": "markdown",
      "source": [
        "#Set up environment"
      ],
      "metadata": {
        "id": "KX9LkbvN_emf"
      }
    },
    {
      "cell_type": "code",
      "execution_count": null,
      "metadata": {
        "id": "e3Jwgwsj_rov"
      },
      "outputs": [],
      "source": [
        "#clone YOLOv4 repo\n",
        "!git clone https://github.com/bxntn/PyTorch_YOLOv4.git"
      ]
    },
    {
      "cell_type": "code",
      "source": [
        "#install requirements\n",
        "%cd /content/PyTorch_YOLOv4/\n",
        "!pip install -r requirements.txt"
      ],
      "metadata": {
        "id": "CwA8rUCChqXn"
      },
      "execution_count": null,
      "outputs": []
    },
    {
      "cell_type": "code",
      "source": [
        "#make a config folder\n",
        "!mkdir cfg\n",
        "%cd /content/PyTorch_YOLOv4/cfg/\n",
        "# download pre-trained weight\n",
        "!gdown https://drive.google.com/u/0/uc?id=1fcbR0bWzYfIEdLJPzOsn4R5mlvR6IQyA\n",
        "#download .name\n",
        "!gdown {A .name file link that is editable}\n",
        "#download .cfg\n",
        "!gdown {A .cfg file link that is editable}"
      ],
      "metadata": {
        "id": "5oAfCW-OhPiA"
      },
      "execution_count": null,
      "outputs": []
    },
    {
      "cell_type": "code",
      "source": [
        "#Download epoch weight to continue model train\n",
        "#epoch 74\n",
        "!gdown {A .pt link that is editable}"
      ],
      "metadata": {
        "id": "-9FBfI2ew9k1"
      },
      "execution_count": null,
      "outputs": []
    },
    {
      "cell_type": "markdown",
      "source": [
        ".name : A list of dataset class name<br>\n",
        ".yaml : Set PATH of train/val/test images folder<br>\n",
        ".cfg  : A cfg file of yolov4<br>\n",
        "To see more info about setup before train your model: https://github.com/AlexeyAB/darknet#how-to-train-to-detect-your-custom-objects"
      ],
      "metadata": {
        "id": "HQQiUCP2BOf8"
      }
    },
    {
      "cell_type": "markdown",
      "source": [
        "#Download dataset"
      ],
      "metadata": {
        "id": "os6vzLwv_m01"
      }
    },
    {
      "cell_type": "code",
      "source": [
        "%cd /content\n",
        "!gdown {A dataset link that is editable}\n",
        "!unzip train-test_data.zip\n",
        "!rm train-test_data.zip"
      ],
      "metadata": {
        "id": "UYg8Fb4M7qPj"
      },
      "execution_count": null,
      "outputs": []
    },
    {
      "cell_type": "code",
      "source": [
        "%cd /content\n",
        "!mkdir data\n",
        "%cd data\n",
        "#download .yaml\n",
        "!gdown {A .yaml file link that is editable}"
      ],
      "metadata": {
        "id": "rYTeQBr47xoQ"
      },
      "execution_count": null,
      "outputs": []
    },
    {
      "cell_type": "markdown",
      "source": [
        "#Train"
      ],
      "metadata": {
        "id": "TYRPF6_5_sOE"
      }
    },
    {
      "cell_type": "code",
      "source": [
        "#To Fix binary incompatibility in np.array\n",
        "!pip install --upgrade numpy"
      ],
      "metadata": {
        "id": "Jf0PIMqG-qi3"
      },
      "execution_count": null,
      "outputs": []
    },
    {
      "cell_type": "code",
      "source": [
        "#To support FullLoader\n",
        "!pip install --upgrade PyYAML"
      ],
      "metadata": {
        "id": "GsixneeciOqN"
      },
      "execution_count": null,
      "outputs": []
    },
    {
      "cell_type": "code",
      "source": [
        "# --device : select train device\n",
        "# --batch-size : Set batch size\n",
        "# --img-size : Set image size\n",
        "# --data : PATH to .yaml file\n",
        "# --cfg : PATH to .cfg file [for more detail go https://github.com/AlexeyAB/darknet#how-to-train-to-detect-your-custom-objects]\n",
        "# --weights : initial weights PATH\n",
        "# --ephoch : how long to train for\n",
        "# --cache-images : cache images for faster training\n",
        "#For more parser argument please look at https://github.com/WongKinYiu/PyTorch_YOLOv4/blob/master/train.py#:~:text=if%20__name__%20%3D%3D%20%27__main__,opt%20%3D%20parser.parse_args()\n",
        "\n",
        "%cd /content\n",
        "!python ./PyTorch_YOLOv4/train.py --device 0 --batch-size 4 --img 416 416 --data ./data/data.yaml --cfg ./PyTorch_YOLOv4/cfg/yolov4.cfg --weights ./PyTorch_YOLOv4/cfg/epoch_074.pt --name yolov4 --epochs 400"
      ],
      "metadata": {
        "id": "rHl0a2nbR5-j"
      },
      "execution_count": null,
      "outputs": []
    },
    {
      "cell_type": "markdown",
      "source": [
        "#Download folder from train to local\n",
        "[not recommended]"
      ],
      "metadata": {
        "id": "FH77HaC12SNr"
      }
    },
    {
      "cell_type": "code",
      "source": [
        "#PATH to folder that want to zip\n",
        "%cd /content\n",
        "#!zip -r {where the zip goes to} {PATH to original file/folder} \n",
        "!zip -r ./train.zip ./runs/train/yolov4/\n",
        "\n",
        "from google.colab import files\n",
        "files.download(\"/content/train.zip\")"
      ],
      "metadata": {
        "id": "-pW1ih9E2OtM"
      },
      "execution_count": null,
      "outputs": []
    },
    {
      "cell_type": "markdown",
      "source": [
        "#Test yolov4"
      ],
      "metadata": {
        "id": "2hTqxg6S6rQ1"
      }
    },
    {
      "cell_type": "markdown",
      "source": [
        "if you clone from wongkinyiu repo and have the cuda problem <br>\n",
        "go to plot.py in util folder and comment two line in output_to_target method<br>\n",
        "\n",
        "```\n",
        " 91:if isinstance(output, torch.Tensor):\n",
        " 92:   output = output.cpu().numpy()\n",
        "```\n",
        "and add \n",
        "```\n",
        "output = [temp.cpu().numpy() for temp in output]\n",
        "```\n",
        "instead"
      ],
      "metadata": {
        "id": "2heSfe9SSIDd"
      }
    },
    {
      "cell_type": "code",
      "source": [
        "# --device : select test device\n",
        "# --batch-size : Set batch size\n",
        "# --img-size : Set image size\n",
        "# --data : PATH to .yaml file\n",
        "# --cfg : PATH to .cfg file\n",
        "# --weights : weights PATH\n",
        "# --name : save to project/name\n",
        "# --names : .name PATH\n",
        "# --task : \"'val', 'test', 'study'\"\n",
        "#For more parser argument please look at https://github.com/WongKinYiu/PyTorch_YOLOv4/blob/master/test.py#:~:text=if%20__name__%20%3D%3D%20%27__main__,print(opt)\n",
        "%cd /content\n",
        "!python ./PyTorch_YOLOv4/test.py --device 0 --batch-size 8 --img-size 416 --data ./data/data.yaml --cfg ./PyTorch_YOLOv4/cfg/yolov4.cfg --weights ./runs/train/yolov42/weights/epoch_099.pt --name yolov4_epoch_099 --names ./PyTorch_YOLOv4/cfg/custom.names --task 'test' "
      ],
      "metadata": {
        "id": "qIfAxteO5hAo"
      },
      "execution_count": null,
      "outputs": []
    },
    {
      "cell_type": "markdown",
      "source": [
        "#Download test result to local"
      ],
      "metadata": {
        "id": "eF8aiCTkSCOw"
      }
    },
    {
      "cell_type": "code",
      "source": [
        "#PATH to folder that want to zip\n",
        "%cd /content\n",
        "#!zip -r {where the zip goes to} {PATH to original file/folder} \n",
        "!zip -r ./test_epoch_099.zip ./runs/test/yolov4_epoch_099/\n",
        "\n",
        "from google.colab import files\n",
        "files.download(\"/content/test_epoch_099.zip\")"
      ],
      "metadata": {
        "id": "oCRdm_FfTFbj"
      },
      "execution_count": null,
      "outputs": []
    },
    {
      "cell_type": "markdown",
      "source": [
        "#Detect with your model"
      ],
      "metadata": {
        "id": "2pENWiHW9anm"
      }
    },
    {
      "cell_type": "code",
      "source": [
        "# --device : select your device\n",
        "# --source : PATH to your images folder\n",
        "# --output : PATH for your result folder\n",
        "# --img-size : Set image size\n",
        "# --cfg : PATH to .cfg file\n",
        "# --weights : weights PATH\n",
        "# --names : .name PATH\n",
        "#For more parser argument please look at https://github.com/WongKinYiu/PyTorch_YOLOv4/blob/master/detect.py#:~:text=if%20__name__%20%3D%3D%20%27__main__,print(opt)\n",
        "!python ./PyTorch_YOLOv4/detect.py --device 0 --source '' --output '' --img-size 416 --cfg ./PyTorch_YOLOv4/cfg/yolov4.cfg --weights ./runs/train/yolov42/weights/epoch_099.pt --names ./PyTorch_YOLOv4/cfg/custom.names "
      ],
      "metadata": {
        "id": "mN2A78tD9dQd"
      },
      "execution_count": null,
      "outputs": []
    }
  ]
}